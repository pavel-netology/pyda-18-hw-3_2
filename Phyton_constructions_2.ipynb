{
 "cells": [
  {
   "cell_type": "markdown",
   "metadata": {},
   "source": [
    "### Задача 1 - программа, которая выведет на экран множество уникальных гео-меток всех пользователей."
   ]
  },
  {
   "cell_type": "code",
   "execution_count": 1,
   "metadata": {},
   "outputs": [
    {
     "name": "stdout",
     "output_type": "stream",
     "text": [
      "{98, 35, 15, 213, 54, 119}\n"
     ]
    }
   ],
   "source": [
    "ids = {'user1': [213, 213, 213, 15, 213],\n",
    "'user2': [54, 54, 119, 119, 119],\n",
    "'user3': [213, 98, 98, 35]}\n",
    "set_geo = set()\n",
    "for user_geo in ids.values():\n",
    "    set_geo.update(user_geo)\n",
    "print(set_geo)"
   ]
  },
  {
   "cell_type": "markdown",
   "metadata": {},
   "source": [
    "### Задача 2 - программа, которая выведет на экран распределение количества слов в запросах в требуемом виде."
   ]
  },
  {
   "cell_type": "code",
   "execution_count": 3,
   "metadata": {},
   "outputs": [
    {
     "name": "stdout",
     "output_type": "stream",
     "text": [
      "Результат:\n",
      "Поисковых запросов, содержащих 1 слов(а):12.5%\n",
      "Поисковых запросов, содержащих 3 слов(а):50.0%\n",
      "Поисковых запросов, содержащих 2 слов(а):37.5%\n"
     ]
    }
   ],
   "source": [
    "queries = ['борис',\n",
    "'смотреть сериалы онлайн',\n",
    "'новости спорта',\n",
    "'афиша кино',\n",
    "'курс доллара',\n",
    "'сериалы этим летом',\n",
    "'курс по питону',\n",
    "'сериалы про спорт'\n",
    "]\n",
    "# Создаем список из частотности слов в запросах\n",
    "list_frequency = [len(dict_frequency.split(sep = ' ')) for dict_frequency in queries]\n",
    "\n",
    "# Создаем словарь где ключ - кол-во слов в запросе, значение - частотность таких запросов\n",
    "dict_frequency = {number:list_frequency.count(number) for number in list_frequency}\n",
    "\n",
    "print('Результат:')\n",
    "for first,second in dict_frequency.items():\n",
    "    print(f'Поисковых запросов, содержащих {first} слов(а):{round(second/sum(dict_frequency.values()) * 100,1)}%')\n",
    "    "
   ]
  },
  {
   "cell_type": "markdown",
   "metadata": {},
   "source": [
    "### Задача 3 - необходимо дополнить исходную структуру показателем ROI"
   ]
  },
  {
   "cell_type": "code",
   "execution_count": 4,
   "metadata": {},
   "outputs": [
    {
     "data": {
      "text/plain": [
       "{'vk': {'revenue': 103, 'cost': 98, 'ROI': 5.1},\n",
       " 'yandex': {'revenue': 179, 'cost': 153, 'ROI': 16.99},\n",
       " 'facebook': {'revenue': 103, 'cost': 110, 'ROI': -6.36},\n",
       " 'adwords': {'revenue': 35, 'cost': 34, 'ROI': 2.94},\n",
       " 'twitter': {'revenue': 11, 'cost': 24, 'ROI': -54.17}}"
      ]
     },
     "execution_count": 4,
     "metadata": {},
     "output_type": "execute_result"
    }
   ],
   "source": [
    "results = {\n",
    "'vk': {'revenue': 103, 'cost': 98},\n",
    "'yandex': {'revenue': 179, 'cost': 153},\n",
    "'facebook': {'revenue': 103, 'cost': 110},\n",
    "'adwords': {'revenue': 35, 'cost': 34},\n",
    "'twitter': {'revenue': 11, 'cost': 24},\n",
    "}\n",
    "for value in results.values():\n",
    "    value['ROI'] = round((value['revenue'] / value['cost'] - 1) * 100,2)\n",
    "results"
   ]
  },
  {
   "cell_type": "markdown",
   "metadata": {},
   "source": [
    "### Задача 4 - программа, которая возвращает название канала с максимальным объемом продаж."
   ]
  },
  {
   "cell_type": "code",
   "execution_count": 1,
   "metadata": {},
   "outputs": [
    {
     "name": "stdout",
     "output_type": "stream",
     "text": [
      "Максимальный объем продаж на рекламном канале: telegram, vk\n"
     ]
    }
   ],
   "source": [
    "stats = {'telegram':120,'facebook': 55, 'yandex': 115, 'vk': 120, 'google': 99, 'email': 42, 'ok': 98}\n",
    "best_channel = {}\n",
    "max_values = max(stats.values())\n",
    "best_channel = {channel:sells for channel,sells in stats.items() if sells == max_values}\n",
    "best_channel_name = [best_name for best_name in best_channel.keys() ]\n",
    "print('Максимальный объем продаж на рекламном канале:',\", \".join(best_channel_name))\n"
   ]
  },
  {
   "cell_type": "markdown",
   "metadata": {},
   "source": [
    "### Задача 5* - программа, которая на основе исходного списка составит словарь такого уровня вложенности, какова длина исхондого списка."
   ]
  },
  {
   "cell_type": "code",
   "execution_count": 8,
   "metadata": {},
   "outputs": [
    {
     "name": "stdout",
     "output_type": "stream",
     "text": [
      "{1: {'v': {3: {4: {5: 6}}}}}\n"
     ]
    }
   ],
   "source": [
    "\n",
    "list 1= [1,'v',3,4,5,6]\n",
    "while len(list1) >= 2:\n",
    "    dict2 = {list1[-2]:list1[-1]}\n",
    "    del(list1[-2:])\n",
    "    list1.append(dict2)\n",
    "print(list1[0])\n",
    "\n",
    "\n",
    "\n"
   ]
  },
  {
   "cell_type": "markdown",
   "metadata": {},
   "source": [
    "### Задача 6* - программа, которая будет запрашивать у пользователя количество порций для приготовления этих блюд и отображать информацию о суммарном количестве требуемых ингредиентов в указанном виде."
   ]
  },
  {
   "cell_type": "code",
   "execution_count": 3,
   "metadata": {},
   "outputs": [
    {
     "name": "stdout",
     "output_type": "stream",
     "text": [
      "Количество порций: 4\n",
      "сыр: 280 гр\n",
      "томаты: 8 шт\n",
      "огурцы: 80 гр\n",
      "маслины: 40 гр\n",
      "оливковое масло: 80 мл\n",
      "салат: 40 гр\n",
      "перец: 80 гр\n",
      "колбаса: 120 гр\n",
      "бекон: 120 гр\n",
      "оливки: 40 гр\n",
      "томаты: 80 гр\n",
      "тесто: 400 гр\n",
      "лимон: 4 шт\n",
      "вода: 800 мл\n",
      "сахар: 40 гр\n",
      "лайм: 80 гр\n"
     ]
    }
   ],
   "source": [
    "cook_book_2 = {\n",
    "'салат': [\n",
    "{'ingridient_name': 'сыр', 'quantity': 50, 'measure': 'гр'},\n",
    "{'ingridient_name': 'томаты', 'quantity': 2, 'measure': 'шт'},\n",
    "{'ingridient_name': 'огурцы', 'quantity': 20, 'measure': 'гр'},\n",
    "{'ingridient_name': 'маслины', 'quantity': 10, 'measure': 'гр'},\n",
    "{'ingridient_name': 'оливковое масло', 'quantity': 20, 'measure': 'мл'},\n",
    "{'ingridient_name': 'салат', 'quantity': 10, 'measure': 'гр'},\n",
    "{'ingridient_name': 'перец', 'quantity': 20, 'measure': 'гр'}\n",
    "],\n",
    "'пицца': [\n",
    "{'ingridient_name': 'сыр', 'quantity': 20, 'measure': 'гр'},\n",
    "{'ingridient_name': 'колбаса', 'quantity': 30, 'measure': 'гр'},\n",
    "{'ingridient_name': 'бекон', 'quantity': 30, 'measure': 'гр'},\n",
    "{'ingridient_name': 'оливки', 'quantity': 10, 'measure': 'гр'},\n",
    "{'ingridient_name': 'томаты', 'quantity': 20, 'measure': 'гр'},\n",
    "{'ingridient_name': 'тесто', 'quantity': 100, 'measure': 'гр'},\n",
    "],\n",
    "'лимонад': [\n",
    "{'ingridient_name': 'лимон', 'quantity': 1, 'measure': 'шт'},\n",
    "{'ingridient_name': 'вода', 'quantity': 200, 'measure': 'мл'},\n",
    "{'ingridient_name': 'сахар', 'quantity': 10, 'measure': 'гр'},\n",
    "{'ingridient_name': 'лайм', 'quantity': 20, 'measure': 'гр'},\n",
    "]\n",
    "}\n",
    "all_ingridients = [x for x in cook_book_2.values()]\n",
    "ingridients_list = [y for y in sum(all_ingridients,[])]\n",
    "new_dict = {}\n",
    "for ing in ingridients_list:\n",
    "    if (ing['ingridient_name'],ing['measure']) in new_dict:\n",
    "        new_dict[(ing['ingridient_name'],ing['measure'])] += ing['quantity']\n",
    "    else:\n",
    "        new_dict[(ing['ingridient_name'],ing['measure'])] = ing['quantity']\n",
    "count_guests = int(input('Количество порций: '))\n",
    "for first,second in new_dict.items():\n",
    "    print(f'{first[0]}: {second * count_guests} {first[1]}')"
   ]
  }
 ],
 "metadata": {
  "kernelspec": {
   "display_name": "Python 3",
   "language": "python",
   "name": "python3"
  },
  "language_info": {
   "codemirror_mode": {
    "name": "ipython",
    "version": 3
   },
   "file_extension": ".py",
   "mimetype": "text/x-python",
   "name": "python",
   "nbconvert_exporter": "python",
   "pygments_lexer": "ipython3",
   "version": "3.8.5"
  }
 },
 "nbformat": 4,
 "nbformat_minor": 4
}
